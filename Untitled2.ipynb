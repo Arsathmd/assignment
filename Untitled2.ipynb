{
 "cells": [
  {
   "cell_type": "code",
   "execution_count": null,
   "id": "d1b56cb8",
   "metadata": {},
   "outputs": [],
   "source": [
    "DICTIONARY\n",
    "FORMAT: VAR={KEY:VALUE}\n",
    "    IF KEY IS STRING ENCLOSE WITH SINGLE OR DOUBLE QUOTE\n",
    "    IF KEY IS NUMERIC NO QUOTE REQUIRED "
   ]
  },
  {
   "cell_type": "code",
   "execution_count": null,
   "id": "51b8925c",
   "metadata": {
    "scrolled": false
   },
   "outputs": [],
   "source": [
    "var2={\"name\":\"data analytics\",\"dept\":'mca',\"studentcount\":45}"
   ]
  },
  {
   "cell_type": "code",
   "execution_count": null,
   "id": "5801b40a",
   "metadata": {},
   "outputs": [],
   "source": [
    "type(var2)"
   ]
  },
  {
   "cell_type": "code",
   "execution_count": null,
   "id": "ec220c65",
   "metadata": {},
   "outputs": [],
   "source": [
    "var2[\"dept\"]"
   ]
  },
  {
   "cell_type": "code",
   "execution_count": null,
   "id": "a915b880",
   "metadata": {
    "scrolled": true
   },
   "outputs": [],
   "source": [
    "var2[\"studentcount\"]"
   ]
  },
  {
   "cell_type": "code",
   "execution_count": null,
   "id": "30047145",
   "metadata": {},
   "outputs": [],
   "source": [
    "var5={\"1,2,4,6,arsad\"}"
   ]
  },
  {
   "cell_type": "code",
   "execution_count": null,
   "id": "d3f99469",
   "metadata": {},
   "outputs": [],
   "source": [
    "print(var5)"
   ]
  },
  {
   "cell_type": "code",
   "execution_count": null,
   "id": "e6bba42c",
   "metadata": {},
   "outputs": [],
   "source": [
    "type(var5)"
   ]
  },
  {
   "cell_type": "code",
   "execution_count": null,
   "id": "b29b1273",
   "metadata": {},
   "outputs": [],
   "source": [
    "alarm=input(\"enter time\")\n",
    "timenow=input(\"enter time\")\n",
    "notif={1:\"this is morning\",2:\"this is afternoon\"}\n",
    "if int (timenow)<12:\n",
    "    print(notif[1])\n",
    "else int(timenow)==12:\n",
    "        print(notif[2])\n",
    "        elif int(timenow)>12:\n",
    "            print(notif[3])"
   ]
  },
  {
   "cell_type": "code",
   "execution_count": null,
   "id": "d7a73f8d",
   "metadata": {},
   "outputs": [],
   "source": []
  }
 ],
 "metadata": {
  "kernelspec": {
   "display_name": "Python 3 (ipykernel)",
   "language": "python",
   "name": "python3"
  },
  "language_info": {
   "codemirror_mode": {
    "name": "ipython",
    "version": 3
   },
   "file_extension": ".py",
   "mimetype": "text/x-python",
   "name": "python",
   "nbconvert_exporter": "python",
   "pygments_lexer": "ipython3",
   "version": "3.10.8"
  }
 },
 "nbformat": 4,
 "nbformat_minor": 5
}
